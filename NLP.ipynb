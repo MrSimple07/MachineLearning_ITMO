{
  "nbformat": 4,
  "nbformat_minor": 0,
  "metadata": {
    "colab": {
      "provenance": [],
      "authorship_tag": "ABX9TyPse4OCVSM1ZwqMQ6x9F0yz",
      "include_colab_link": true
    },
    "kernelspec": {
      "name": "python3",
      "display_name": "Python 3"
    },
    "language_info": {
      "name": "python"
    }
  },
  "cells": [
    {
      "cell_type": "markdown",
      "metadata": {
        "id": "view-in-github",
        "colab_type": "text"
      },
      "source": [
        "<a href=\"https://colab.research.google.com/github/MrSimple07/MachineLearning_ITMO/blob/main/NLP.ipynb\" target=\"_parent\"><img src=\"https://colab.research.google.com/assets/colab-badge.svg\" alt=\"Open In Colab\"/></a>"
      ]
    },
    {
      "cell_type": "code",
      "execution_count": 11,
      "metadata": {
        "colab": {
          "base_uri": "https://localhost:8080/"
        },
        "id": "lqpFrhMbaS4a",
        "outputId": "dc9dee42-06e9-4f88-fcbd-12d5a5758407"
      },
      "outputs": [
        {
          "output_type": "stream",
          "name": "stderr",
          "text": [
            "[nltk_data] Downloading package stopwords to /root/nltk_data...\n",
            "[nltk_data]   Package stopwords is already up-to-date!\n",
            "[nltk_data] Downloading package punkt to /root/nltk_data...\n",
            "[nltk_data]   Unzipping tokenizers/punkt.zip.\n"
          ]
        },
        {
          "output_type": "execute_result",
          "data": {
            "text/plain": [
              "True"
            ]
          },
          "metadata": {},
          "execution_count": 11
        }
      ],
      "source": [
        "#Topic identification\n",
        "\n",
        "import nltk\n",
        "import requests\n",
        "from nltk.corpus import stopwords\n",
        "from gensim import corpora, models\n",
        "from pprint import pprint\n",
        "from nltk.tokenize import word_tokenize\n",
        "\n",
        "nltk.download('stopwords')\n",
        "nltk.download('punkt')"
      ]
    },
    {
      "cell_type": "markdown",
      "source": [
        "With LDA"
      ],
      "metadata": {
        "id": "DWoeF6Aefgj4"
      }
    },
    {
      "cell_type": "code",
      "source": [
        "#Random text\n",
        "document = 'It is a very broad definition that can be summed in the following way. The word technology is derived from ‘techne’ and logia, two Greek words.Techne means science. It also stands for the philosophical meaning of using scientific knowledge. Logia means the art of using skills and different  techniques to accomplish a particular motive. After combining both the Greek words, the perfect definition is derived as — The art of using specific  scientific skills and knowledge to accomplish a motive of making an approach better and easier.'\n",
        "\n",
        "stop_words= set(stopwords.words('english'))\n",
        "tokens =[word for word in nltk.word_tokenize(document.lower()) if word.isalpha() and word not in stop_words]\n",
        "\n",
        "\n",
        "dictionary = corpora.Dictionary([tokens])\n",
        "corpus = [dictionary.doc2bow(tokens)]\n",
        "\n",
        "\n",
        "#LDA model - Latent Dirichlet Allocation\n",
        "lda_model = models.LdaModel(corpus, num_topics =1, id2word = dictionary, passes =10)\n",
        "pprint(lda_model.print_topics())"
      ],
      "metadata": {
        "colab": {
          "base_uri": "https://localhost:8080/"
        },
        "id": "RrqPmsnRaoS-",
        "outputId": "288f17b5-dcce-4a93-8046-b1de0a71eda1"
      },
      "execution_count": 13,
      "outputs": [
        {
          "output_type": "stream",
          "name": "stdout",
          "text": [
            "[(0,\n",
            "  '0.047*\"using\" + 0.035*\"knowledge\" + 0.035*\"means\" + 0.035*\"skills\" + '\n",
            "  '0.035*\"scientific\" + 0.035*\"motive\" + 0.035*\"logia\" + 0.035*\"accomplish\" + '\n",
            "  '0.035*\"definition\" + 0.035*\"greek\"')]\n"
          ]
        }
      ]
    },
    {
      "cell_type": "code",
      "source": [],
      "metadata": {
        "id": "ZWVlo6dAdj6i"
      },
      "execution_count": null,
      "outputs": []
    }
  ]
}