{
 "cells": [
  {
   "cell_type": "code",
   "execution_count": 47,
   "id": "c75303a0-04cb-42c2-8eef-2bfb19627f3b",
   "metadata": {},
   "outputs": [],
   "source": [
    "#Imports\n",
    "import numpy as np\n",
    "import pandas as pd\n",
    "import matplotlib.pyplot as plt\n",
    "from sklearn.model_selection import train_test_split\n",
    "from scipy.optimize import minimize\n",
    "import sklearn.metrics\n",
    "import warnings\n",
    "from sklearn.metrics import accuracy_score"
   ]
  },
  {
   "cell_type": "code",
   "execution_count": 5,
   "id": "7d38099c-907f-443a-87bd-8a6cb93b4231",
   "metadata": {},
   "outputs": [],
   "source": [
    "#Data Preparation\n",
    "df = pd.read_csv('Bioresponse.csv')\n",
    "\n",
    "X = df.drop(columns= ['Activity'])\n",
    "y = df['Activity']\n",
    "\n",
    "X_train, X_test, y_train, y_test = train_test_split(X,y, test_size= 0.2, random_state =42)"
   ]
  },
  {
   "cell_type": "code",
   "execution_count": 8,
   "id": "acf3cdaa-df77-4b93-b469-33d9b7ff99fa",
   "metadata": {},
   "outputs": [],
   "source": [
    "def compute_sigmoid(z):\n",
    "    s = 1. / (1. + np.exp(-z))\n",
    "    return s\n",
    "\n",
    "def initialize_parameters(dim):\n",
    "    weights = np.zeros((dim, 1))\n",
    "    bias = 0.\n",
    "    return weights, bias\n",
    "\n",
    "def propagate(weights, bias, X, Y):\n",
    "    m = X.shape[1]\n",
    "    \n",
    "    # Forward propagation\n",
    "    A = compute_sigmoid(np.dot(weights.T, X) + bias)\n",
    "    cost = -(1./m) * np.sum(Y * np.log(A + 1e-8) + (1 - Y) * np.log(1 - A + 1e-8), axis=1)\n",
    "    \n",
    "    # Backward propagation\n",
    "    dw = (1./m) * np.dot(X, (A - Y).T)\n",
    "    db = (1./m) * np.sum(A - Y, axis=1)\n",
    "\n",
    "    gradients = {\"dw\": dw,\n",
    "                 \"db\": db}\n",
    "    \n",
    "    return gradients, cost\n"
   ]
  },
  {
   "cell_type": "code",
   "execution_count": 28,
   "id": "80e1b4ea-dbe2-4422-8c06-73c4fd89044c",
   "metadata": {},
   "outputs": [],
   "source": [
    "def stochastic_gradient_descent(X, y, num_iterations, learning_rate, batch_size, print_cost=False):\n",
    "    input_size = X.shape[0]\n",
    "    weights = np.zeros((input_size, 1))\n",
    "    bias = 0\n",
    "    costs = []\n",
    "\n",
    "    for i in range(num_iterations):\n",
    "        # Get mini-batches\n",
    "        batch_indices = np.random.randint(low=0, high=input_size, size=batch_size)\n",
    "        X_batch = X[:, batch_indices]\n",
    "        y_batch = y[:, batch_indices]\n",
    "\n",
    "        # Cost and gradient calculation for the mini-batch\n",
    "        gradients, cost = propagate(weights, bias, X_batch, y_batch)\n",
    "\n",
    "        # Retrieve derivatives from gradients\n",
    "        dw = gradients[\"dw\"]\n",
    "        db = gradients[\"db\"]\n",
    "\n",
    "        # Update rule\n",
    "        weights -= learning_rate * dw\n",
    "        bias -= learning_rate * db\n",
    "\n",
    "        # Record the costs\n",
    "        if i % 100 == 0:\n",
    "            costs.append(cost)\n",
    "\n",
    "        # Print the cost every 100 training iterations\n",
    "        if print_cost and i % 100 == 0:\n",
    "            print(\"Cost after iteration %i: %f\" % (i, cost))\n",
    "\n",
    "    return weights, bias, costs\n"
   ]
  },
  {
   "cell_type": "code",
   "execution_count": 32,
   "id": "aca1fdd0-aeed-4e1b-b1dd-1275067f9cfe",
   "metadata": {},
   "outputs": [
    {
     "name": "stdout",
     "output_type": "stream",
     "text": [
      "Cost after iteration 0: 0.693147\n",
      "Cost after iteration 100: 0.645479\n",
      "Cost after iteration 200: 0.596732\n",
      "Cost after iteration 300: 0.573372\n",
      "Cost after iteration 400: 0.561297\n",
      "Cost after iteration 500: 0.576282\n",
      "Cost after iteration 600: 0.541089\n",
      "Cost after iteration 700: 0.486097\n",
      "Cost after iteration 800: 0.527004\n",
      "Cost after iteration 900: 0.473616\n",
      "Test accuracy: 0.6991\n"
     ]
    }
   ],
   "source": [
    "w, b, costs_sgd = stochastic_gradient_descent(\n",
    "    X=X_train.T.to_numpy(),\n",
    "    y=y_train_array,\n",
    "    num_iterations=num_iterations,\n",
    "    learning_rate=learning_rate,\n",
    "    batch_size=batch_size,\n",
    "    print_cost=True\n",
    ")\n",
    "pred_proba = np.dot(w.T, X_test.T) + b\n",
    "pred = np.where(pred_proba > 0.5, 1, 0).ravel()\n",
    "\n",
    "print(f\"Test accuracy: {np.round(accuracy_score(y_true=y_test, y_pred=pred), 4)}\")"
   ]
  },
  {
   "cell_type": "code",
   "execution_count": 34,
   "id": "42c3c098-a0ea-4067-994f-481024f2d742",
   "metadata": {},
   "outputs": [],
   "source": [
    "#Gradient Descent Algotirhm\n",
    "def optimize(weights, bias, X, Y, num_iterations, learning_rate, print_cost=False):\n",
    "    costs = []\n",
    "\n",
    "    for i in range(num_iterations):\n",
    "        # Cost and gradient calculation\n",
    "        gradients, cost = propagate(weights, bias, X, Y)\n",
    "\n",
    "        # Retrieve derivatives from gradients\n",
    "        dw = gradients[\"dw\"]\n",
    "        db = gradients[\"db\"]\n",
    "\n",
    "        # Update rule\n",
    "        weights -= learning_rate * dw\n",
    "        bias -= learning_rate * db\n",
    "\n",
    "        # Record the costs\n",
    "        if i % 100 == 0:\n",
    "            costs.append(cost)\n",
    "\n",
    "        # Print the cost every 100 training iterations\n",
    "        if print_cost and i % 100 == 0:\n",
    "            print(\"Cost after iteration %i: %f\" % (i, cost))\n",
    "\n",
    "    parameters = {\"weights\": weights,\n",
    "                  \"bias\": bias}\n",
    "\n",
    "    gradients = {\"dw\": dw,\n",
    "                 \"db\": db}\n",
    "    return parameters, gradients, costs\n"
   ]
  },
  {
   "cell_type": "code",
   "execution_count": 40,
   "id": "9109c289-bf1f-47fb-870b-fde1cceb3b00",
   "metadata": {},
   "outputs": [
    {
     "name": "stdout",
     "output_type": "stream",
     "text": [
      "Cost after iteration 0: 0.508460\n",
      "Cost after iteration 100: 0.503145\n",
      "Cost after iteration 200: 0.498440\n",
      "Cost after iteration 300: 0.494189\n",
      "Cost after iteration 400: 0.490321\n",
      "Cost after iteration 500: 0.486781\n",
      "Cost after iteration 600: 0.483522\n",
      "Cost after iteration 700: 0.480506\n",
      "Cost after iteration 800: 0.477703\n",
      "Cost after iteration 900: 0.475088\n",
      "Test accuracy: 0.7164\n"
     ]
    }
   ],
   "source": [
    "# Convert y_train to a NumPy array and then reshape\n",
    "y_train_array = y_train.to_numpy().reshape(1, -1)\n",
    "\n",
    "# Optimize the parameters\n",
    "params, _, costs = optimize(\n",
    "    weights=w,\n",
    "    bias=b,\n",
    "    X=X_train.T,\n",
    "    Y=y_train_array,\n",
    "    num_iterations=num_iterations,\n",
    "    learning_rate=learning_rate,\n",
    "    print_cost=True\n",
    ")\n",
    "\n",
    "# Make predictions on the test set\n",
    "pred_proba = np.dot(w.T, X_test.T) + b\n",
    "pred = np.where(pred_proba > 0.5, 1, 0).ravel()\n",
    "\n",
    "# Evaluate the model\n",
    "accuracy = accuracy_score(y_true=y_test, y_pred=pred)\n",
    "print(f\"Test accuracy: {np.round(accuracy, 4)}\")"
   ]
  },
  {
   "cell_type": "code",
   "execution_count": 26,
   "id": "04cd7b5a-556d-4af7-a742-0c894c4cbc03",
   "metadata": {},
   "outputs": [],
   "source": [
    "#Adam optimization\n",
    "def adam_optimization(weights, bias, X, y, num_iterations, learning_rate, beta1=0.9, beta2=0.999, epsilon=1e-8, print_cost=False):\n",
    "    m = X.shape[1]\n",
    "    costs = []\n",
    "    vdw = np.zeros_like(weights)\n",
    "    vdb = np.zeros_like(bias)\n",
    "    sdw = np.zeros_like(weights)\n",
    "    sdb = np.zeros_like(bias)\n",
    "\n",
    "    for i in range(num_iterations):\n",
    "        # Cost and gradient calculation\n",
    "        gradients, cost = propagate(weights, bias, X, y)\n",
    "        dw = gradients[\"dw\"]\n",
    "        db = gradients[\"db\"]\n",
    "\n",
    "        # Update biased first and second moment\n",
    "        vdw = beta1 * vdw + (1 - beta1) * dw\n",
    "        vdb = beta1 * vdb + (1 - beta1) * db\n",
    "        sdw = beta2 * sdw + (1 - beta2) * np.power(dw, 2)\n",
    "        sdb = beta2 * sdb + (1 - beta2) * np.power(db, 2)\n",
    "\n",
    "        # Correct bias in first and second moment\n",
    "        vdw_corrected = vdw / (1 - np.power(beta1, i+1))\n",
    "        vdb_corrected = vdb / (1 - np.power(beta1, i+1))\n",
    "        sdw_corrected = sdw / (1 - np.power(beta2, i+1))\n",
    "        sdb_corrected = sdb / (1 - np.power(beta2, i+1))\n",
    "\n",
    "        # Update rule\n",
    "        weights = weights - learning_rate * vdw_corrected / (np.sqrt(sdw_corrected) + epsilon)\n",
    "        bias = bias - learning_rate * vdb_corrected / (np.sqrt(sdb_corrected) + epsilon)\n",
    "\n",
    "        # Record the costs\n",
    "        if i % 100 == 0:\n",
    "            costs.append(cost)\n",
    "\n",
    "        # Print the cost every 100 training iterations\n",
    "        if print_cost and i % 100 == 0:\n",
    "            print(\"Cost after iteration %i: %f\" % (i, cost))\n",
    "\n",
    "    return weights, bias, costs\n"
   ]
  },
  {
   "cell_type": "code",
   "execution_count": 44,
   "id": "9301172e-0527-42d9-b0cc-785f28436c12",
   "metadata": {},
   "outputs": [
    {
     "name": "stdout",
     "output_type": "stream",
     "text": [
      "Cost after iteration 0: 0.693147\n",
      "Cost after iteration 100: 0.381633\n",
      "Cost after iteration 200: 0.332270\n",
      "Cost after iteration 300: 0.303970\n",
      "Cost after iteration 400: 0.284053\n",
      "Cost after iteration 500: 0.268659\n",
      "Cost after iteration 600: 0.256100\n",
      "Cost after iteration 700: 0.245500\n",
      "Cost after iteration 800: 0.236350\n",
      "Cost after iteration 900: 0.228317\n",
      "Test accuracy: 0.7403\n"
     ]
    }
   ],
   "source": [
    "# Initialize weights and bias\n",
    "w = np.zeros((X_train.shape[1], 1))\n",
    "b = 0\n",
    "\n",
    "num_iterations = 1000\n",
    "learning_rate = 0.01\n",
    "beta1 = 0.9\n",
    "beta2 = 0.999\n",
    "epsilon = 1e-8\n",
    "\n",
    "# Convert y_train to a NumPy array and then reshape\n",
    "y_train_array = y_train.to_numpy().reshape(1, -1)\n",
    "\n",
    "# Optimize using the Adam algorithm\n",
    "w, b, costs_adam = adam_optimization(\n",
    "    weights=w,\n",
    "    bias=b,\n",
    "    X=X_train.T,\n",
    "    y=y_train_array,\n",
    "    num_iterations=num_iterations,\n",
    "    learning_rate=learning_rate,\n",
    "    beta1=beta1,\n",
    "    beta2=beta2,\n",
    "    epsilon=epsilon,\n",
    "    print_cost=True\n",
    ")\n",
    "\n",
    "# Make predictions on the test set\n",
    "pred_proba = np.dot(w.T, X_test.T) + b\n",
    "pred = np.where(pred_proba > 0.5, 1, 0).ravel()\n",
    "\n",
    "# Evaluate the model\n",
    "print(f\"Test accuracy: {np.round(accuracy_score(y_true=y_test, y_pred=pred), 4)}\")"
   ]
  },
  {
   "cell_type": "code",
   "execution_count": 48,
   "id": "2d3081bb-c47c-4583-846e-e89730a870ca",
   "metadata": {},
   "outputs": [
    {
     "data": {
      "image/png": "[encoded data removed]",
      "text/plain": [
       "<Figure size 900x600 with 1 Axes>"
      ]
     },
     "metadata": {},
     "output_type": "display_data"
    }
   ],
   "source": [
    "plt.figure(figsize=(9, 6))\n",
    "plt.plot(costs, label=\"GD method\")\n",
    "plt.plot(costs_sgd, label=\"SGD method\")\n",
    "plt.plot(costs_adam, label=\"ADAM method\")\n",
    "plt.xlabel(\"Iterations\")\n",
    "plt.ylabel(\"Cost\")\n",
    "plt.title(\"Learning Curves\")\n",
    "plt.legend()\n",
    "plt.show()"
   ]
  },
  {
   "cell_type": "markdown",
   "id": "137fe4d6-1e18-404c-af44-42732227ed5b",
   "metadata": {},
   "source": [
    "Very Low Learning Rate (e.g., 0.01):\n",
    "\n",
    "The model learns very slowly. It may get stuck in local minima or take a long time to converge. Loss reduction is gradual but steady. Training may require a large number of epochs for convergence. Accuracy might improve, but it will be a slow process. Low to Moderate Learning Rate (e.g., 0.1 - 0.5):\n",
    "\n",
    "The model converges at a reasonable pace. Loss decreases more rapidly compared to a very low learning rate. The model is less likely to get stuck in local minima. Training might require a moderate number of epochs to achieve good accuracy. A good trade-off between convergence speed and model accuracy. High Learning Rate (e.g., 1.0):\n",
    "\n",
    "The model converges very quickly. Loss reduction can be erratic, with occasional large steps. There's a risk of overshooting the minimum, leading to divergence. May achieve good accuracy with fewer epochs, but stability is a concern. Very High Learning Rate (e.g., >1.0):\n",
    "\n",
    "The model may not converge at all. Loss may increase, indicating divergence. The model's accuracy decreases or remains very low. The optimal learning rate is problem-specific and depends on the dataset, model architecture, and the optimization method. It's essential to experiment with different learning rates to find the one that balances convergence speed and model accuracy."
   ]
  },
  {
   "cell_type": "code",
   "execution_count": 2,
   "id": "3b9536e3-937d-4df0-9c19-e8301918d883",
   "metadata": {},
   "outputs": [
    {
     "data": {
      "image/png": "[encoded data removed]",
      "text/plain": [
       "<Figure size 640x480 with 1 Axes>"
      ]
     },
     "metadata": {},
     "output_type": "display_data"
    }
   ],
   "source": [
    "import matplotlib.pyplot as plt\n",
    "\n",
    "accuracy_gd = 0.7164\n",
    "accuracy_sgd = 0.6991\n",
    "accuracy_adam = 0.7403\n",
    "\n",
    "# Create a bar plot to compare accuracies\n",
    "methods = ['Gradient Descent', 'Stochastic Gradient Descent', 'Adam Optimization']\n",
    "accuracies = [accuracy_gd, accuracy_sgd, accuracy_adam]\n",
    "\n",
    "plt.bar(methods, accuracies, color=['blue', 'green', 'orange'])\n",
    "plt.ylabel('Accuracy')\n",
    "plt.title('Comparison of Model Accuracies with Different BP Algorithms')\n",
    "plt.ylim(0, 1)  # Assuming accuracy values are between 0 and 1\n",
    "plt.show()\n"
   ]
  },
  {
   "cell_type": "markdown",
   "id": "08642f63-cc4e-4f05-93c2-6bbe999a5b31",
   "metadata": {},
   "source": [
    "In the evaluation of models trained using different Backpropagation (BP) algorithms—Gradient Descent (GD), Stochastic Gradient Descent (SGD), and Adam Optimization—there exists a compelling comparison based on their achieved accuracies. The comparison provides insights into the relative performance of these algorithms in the context of a specific predictive task.\r\n",
    "\r\n",
    "Gradient Descent (GD):\r\n",
    "The GD algorithm, being the foundational optimization method, demonstrates a respectable accuracy level. However, its performance might be influenced by the size and complexity of the dataset. In scenarios where the training dataset is substantial, GD could face challenges due to its requirement to compute gradients over the entire dataset.\r\n",
    "\r\n",
    "Stochastic Gradient Descent (SGD):\r\n",
    "SGD, characterized by its stochastic and mini-batch approach, exhibits competitive accuracy. By introducing randomness and updating parameters more frequently, SGD often converges faster than GD. However, the random selection of mini-batches can introduce variability in accuracy over different runs.\r\n",
    "\r\n",
    "Adam Optimization:\r\n",
    "Adam Optimization, an adaptive algorithm combining features of GD and SGD, showcases a noteworthy accuracy level. Its ability to dynamically adjust learning rates based on the characteristics of the data contributes to efficient convergence. Adam is particularly advantageous in scenarios with noisy or non-stationary data.\r\n",
    "\r\n",
    "Overall Comparison:\r\n",
    "The observed accuracies suggest that Adam Optimization tends to offer a balanced performance, achieving competitive accuracy while addressing some of the limitations associated with GD and SGD. However, the choice of the most suitable algorithm depends on various factors, including the specific characteristics of the dataset and the computational resources available.\r\n",
    "\r\n",
    "Considerations for Model Selection:\r\n",
    "The selection of the optimal BP algorithm involves a trade-off between computational efficiency, convergence speed, and accuracy. The specific requirements of the task, dataset size, and available resources play a crucial role in determining the most suitable algorithm. Hyperparameter tuning further refines the performance of these algorithms, emphasizing the importance of experimentation and empirical evaluation."
   ]
  },
  {
   "cell_type": "code",
   "execution_count": null,
   "id": "2a9cdd4e-bcc5-4409-a265-0ac9c5f05ce5",
   "metadata": {},
   "outputs": [],
   "source": []
  }
 ],
 "metadata": {
  "kernelspec": {
   "display_name": "Python 3 (ipykernel)",
   "language": "python",
   "name": "python3"
  },
  "language_info": {
   "codemirror_mode": {
    "name": "ipython",
    "version": 3
   },
   "file_extension": ".py",
   "mimetype": "text/x-python",
   "name": "python",
   "nbconvert_exporter": "python",
   "pygments_lexer": "ipython3",
   "version": "3.11.3"
  }
 },
 "nbformat": 4,
 "nbformat_minor": 5
}
